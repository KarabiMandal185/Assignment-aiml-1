{
  "nbformat": 4,
  "nbformat_minor": 0,
  "metadata": {
    "colab": {
      "provenance": [],
      "authorship_tag": "ABX9TyO7p2N3nD63RB6V0B6psJvf",
      "include_colab_link": true
    },
    "kernelspec": {
      "name": "python3",
      "display_name": "Python 3"
    },
    "language_info": {
      "name": "python"
    }
  },
  "cells": [
    {
      "cell_type": "markdown",
      "metadata": {
        "id": "view-in-github",
        "colab_type": "text"
      },
      "source": [
        "<a href=\"https://colab.research.google.com/github/KarabiMandal185/Assignment-aiml-1/blob/main/Assignment2.ipynb\" target=\"_parent\"><img src=\"https://colab.research.google.com/assets/colab-badge.svg\" alt=\"Open In Colab\"/></a>"
      ]
    },
    {
      "cell_type": "code",
      "execution_count": 1,
      "metadata": {
        "colab": {
          "base_uri": "https://localhost:8080/"
        },
        "id": "8ah5BFmFWNzH",
        "outputId": "a1108769-a685-42d0-da49-c4f35bf17771"
      },
      "outputs": [
        {
          "output_type": "stream",
          "name": "stdout",
          "text": [
            "The adjacency List representing the graph is:\n",
            "{0: [1, 2, 3], 1: [0, 2], 2: [0, 1, 3, 5], 3: [0, 2, 4], 4: [3, 5, 7], 5: [4, 6, 7], 6: [5, 7], 7: [4, 5, 6], 8: []}\n",
            "BFS traversal of graph with source 0is:\n",
            "0-->1-->2-->3-->5-->4-->6-->7-->"
          ]
        }
      ],
      "source": [
        "\n",
        "import numpy as np\n",
        "from queue import Queue\n",
        "graph={0:[1,2,3],1:[0,2],2:[0,1,3,5],3:[0,2,4],4:[3,5,7],5:[4,6,7],6:[5,7],7:[4,5,6],8:[]}\n",
        "print(\"The adjacency List representing the graph is:\")\n",
        "print(graph)\n",
        "def bfs(graph,source):\n",
        "  Q=Queue()\n",
        "  visited_vertices=set()\n",
        "  Q.put(source)\n",
        "  visited_vertices.update({source})\n",
        "  while not Q.empty():\n",
        "    vertex=Q.get()\n",
        "    print(vertex,end=\"-->\")\n",
        "    for u in graph[vertex]:\n",
        "       if u not in visited_vertices:\n",
        "          Q.put(u)\n",
        "          visited_vertices.update({u})\n",
        "print(\"BFS traversal of graph with source 0is:\")\n",
        "bfs(graph,0)"
      ]
    },
    {
      "cell_type": "code",
      "source": [
        "\n",
        "graph1={\n",
        "         'A':['C','D','G'],\n",
        "         'B':['A'],\n",
        "         'C':['A','D','F'],\n",
        "         'D':['A','C','E','G','H'],\n",
        "         'E':['D','F','H'],\n",
        "         'F':['C','E'],\n",
        "         'G':['A','D','H'],\n",
        "         'H':['D','E','G'],\n",
        "\n",
        "\n",
        "}\n",
        "\n",
        "print(\"The adjacency List representing the graph is:\")\n",
        "print(graph1)\n",
        "def dfs(graph,node,visited):\n",
        "  if node not in visited:\n",
        "     visited.append(node)\n",
        "     for k in graph[node]:\n",
        "        dfs(graph,k,visited)\n",
        "     return visited\n",
        "     visited=dfs(graph1,'B',[])\n",
        "     print(visited)"
      ],
      "metadata": {
        "colab": {
          "base_uri": "https://localhost:8080/"
        },
        "id": "UAcbhzOYWt9g",
        "outputId": "91a24832-e8a5-489a-ae28-c6d8da083914"
      },
      "execution_count": 2,
      "outputs": [
        {
          "output_type": "stream",
          "name": "stdout",
          "text": [
            "The adjacency List representing the graph is:\n",
            "{'A': ['C', 'D', 'G'], 'B': ['A'], 'C': ['A', 'D', 'F'], 'D': ['A', 'C', 'E', 'G', 'H'], 'E': ['D', 'F', 'H'], 'F': ['C', 'E'], 'G': ['A', 'D', 'H'], 'H': ['D', 'E', 'G']}\n"
          ]
        }
      ]
    },
    {
      "cell_type": "code",
      "source": [
        "import numpy as np\n",
        "\n",
        "# Define the initial and final states\n",
        "initial_state = np.array([[2, 8, 3], [1, 6, 4], [7, 5]])\n",
        "final_state = np.array([[1, 2, 3], [8, 0, 4], [7, 6, 5]])\n",
        "\n",
        "# Define the possible moves\n",
        "moves = [(0, 1), (0, -1), (1, 0), (-1, 0)]\n",
        "\n",
        "# Define the heuristic function\n",
        "def heuristic(state):\n",
        "  return np.sum(np.abs(state - final_state))\n",
        "\n",
        "  # Define the A* search algorithm\n",
        "  def a_star_search(initial_state):\n",
        "    # Create a list to store the open nodes\n",
        "      open_list = [(heuristic(initial_state), 0, initial_state)]\n",
        "        # Create a list to store the closed nodes\n",
        "closed_list = []\n",
        "\n",
        "            # While there are still open nodes\n",
        "while open_list:\n",
        "                  # Get the node with the lowest cost\n",
        "               current_node = min(open_list)\n",
        "                          # Remove the current node from the open list\n",
        "                              open_list.remove(current_node)\n",
        "                                  # Add the current node to the closed list\n",
        "                                      closed_list.append(current_node)\n",
        "\n",
        "                                          # If the current node is the final state\n",
        "                                              if np.array_equal(current_node[2], final_state):\n",
        "                                                    # Return the path to the final state\n",
        "                                                          return current_node[1], current_node[2]\n",
        "\n",
        "                                                              # For each possible move\n",
        "                                                                  for move in moves:\n",
        "                                                                        # Get the new state\n",
        "                                                                              new_state = current_node[2].copy()\n",
        "                                                                                    # Get the index of the blank space\n",
        "                                                                                          blank_index = np.where(new_state == 0)\n",
        "                                                                                                # Apply the move\n",
        "                                                                                                      new_state[blank_index[0] + move[0], blank_index[1] + move[1]] = new_state[blank_index[0], blank_index[1]]\n",
        "                                                                                                            new_state[blank_index[0], blank_index[1]] = 0\n",
        "\n",
        "                                                                                                                  # If the new state is not in the closed list\n",
        "                                                                                                                        if new_state not in [node[2] for node in closed_list]:\n",
        "                                                                                                                                # Calculate the cost of the new state\n",
        "                                                                                                                                        new_cost = current_node[1] + 1\n",
        "                                                                                                                                                # Calculate the heuristic cost of the new state\n",
        "                                                                                                                                                        new_heuristic = heuristic(new_state)\n",
        "                                                                                                                                                                # Add the new state to the open list\n",
        "                                                                                                                                                                        open_list.append((new_heuristic + new_cost, new_cost, new_state))\n",
        "\n",
        "                                                                                                                                                                          # If no path is found\n",
        "                                                                                                                                                                            return None, None\n",
        "\n",
        "                                                                                                                                                                            # Run the A* search algorithm\n",
        "                                                                                                                                                                            path_length, final_state = a_star_search(initial_state)\n",
        "\n",
        "                                                                                                                                                                            # Print the results\n",
        "                                                                                                                                                                            print(\"Path length:\", path_length)\n",
        "                                                                                                                                                                            print(\"Final state:\")\n",
        "                                                                                                                                                                            print(final_state)"
      ],
      "metadata": {
        "id": "AUAQq70FXgkB"
      },
      "execution_count": null,
      "outputs": []
    }
  ]
}